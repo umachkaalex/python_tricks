{
  "nbformat": 4,
  "nbformat_minor": 0,
  "metadata": {
    "kernelspec": {
      "display_name": "Python 2",
      "language": "python",
      "name": "python2"
    },
    "language_info": {
      "codemirror_mode": {
        "name": "ipython",
        "version": 2
      },
      "file_extension": ".py",
      "mimetype": "text/x-python",
      "name": "python",
      "nbconvert_exporter": "python",
      "pygments_lexer": "ipython2",
      "version": "2.7.6"
    },
    "colab": {
      "name": "python_tricks.ipynb",
      "provenance": []
    }
  },
  "cells": [
    {
      "cell_type": "markdown",
      "metadata": {
        "id": "Vv4eE6dC2OBO",
        "colab_type": "text"
      },
      "source": [
        "### Sub-Lists of N-Size from One Bigger List#"
      ]
    },
    {
      "cell_type": "code",
      "metadata": {
        "collapsed": true,
        "id": "0qYRrIHY1uC6",
        "colab_type": "code",
        "colab": {
          "base_uri": "https://localhost:8080/",
          "height": 54
        },
        "outputId": "7413b98f-db74-4d3d-ef20-7cb83cac3e7f"
      },
      "source": [
        "import time\n",
        "# loop realization\n",
        "cur_time = time.time()\n",
        "k_2 = range(1000000)\n",
        "orders = []\n",
        "for l in range(len(k_2)//2):\n",
        "    orders.append([k_2[l*2], k_2[l*2+1]])\n",
        "print(time.time()-cur_time)\n",
        "# zip realization\n",
        "cur_time = time.time()\n",
        "k_2_num = len(k_2)%2\n",
        "orders = list(zip(*[iter(k_2)]*2))\n",
        "print(time.time()-cur_time)"
      ],
      "execution_count": 1,
      "outputs": [
        {
          "output_type": "stream",
          "text": [
            "0.811140060425\n",
            "0.105978965759\n"
          ],
          "name": "stdout"
        }
      ]
    },
    {
      "cell_type": "code",
      "metadata": {
        "id": "x4t0jEZC2PPr",
        "colab_type": "code",
        "colab": {}
      },
      "source": [
        ""
      ],
      "execution_count": 0,
      "outputs": []
    }
  ]
}