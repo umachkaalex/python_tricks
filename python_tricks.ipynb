{
  "nbformat": 4,
  "nbformat_minor": 0,
  "metadata": {
    "kernelspec": {
      "display_name": "Python 2",
      "language": "python",
      "name": "python2"
    },
    "language_info": {
      "codemirror_mode": {
        "name": "ipython",
        "version": 2
      },
      "file_extension": ".py",
      "mimetype": "text/x-python",
      "name": "python",
      "nbconvert_exporter": "python",
      "pygments_lexer": "ipython2",
      "version": "2.7.6"
    },
    "colab": {
      "name": "python_tricks.ipynb",
      "provenance": []
    }
  },
  "cells": [
    {
      "cell_type": "markdown",
      "metadata": {
        "id": "Vv4eE6dC2OBO",
        "colab_type": "text"
      },
      "source": [
        "### Sub-Lists of N-Size from One Bigger List#"
      ]
    },
    {
      "cell_type": "code",
      "metadata": {
        "collapsed": true,
        "id": "0qYRrIHY1uC6",
        "colab_type": "code",
        "outputId": "7413b98f-db74-4d3d-ef20-7cb83cac3e7f",
        "colab": {
          "base_uri": "https://localhost:8080/",
          "height": 54
        }
      },
      "source": [
        "import time\n",
        "# loop realization\n",
        "cur_time = time.time()\n",
        "k_2 = range(1000000)\n",
        "orders = []\n",
        "for l in range(len(k_2)//2):\n",
        "    orders.append([k_2[l*2], k_2[l*2+1]])\n",
        "print(time.time()-cur_time)\n",
        "# zip realization\n",
        "cur_time = time.time()\n",
        "k_2_num = len(k_2)%2\n",
        "orders = list(zip(*[iter(k_2)]*2))\n",
        "print(time.time()-cur_time)"
      ],
      "execution_count": 0,
      "outputs": [
        {
          "output_type": "stream",
          "text": [
            "0.811140060425\n",
            "0.105978965759\n"
          ],
          "name": "stdout"
        }
      ]
    },
    {
      "cell_type": "markdown",
      "metadata": {
        "id": "DhORWD_VtF3L",
        "colab_type": "text"
      },
      "source": [
        "### How to count the occurrence of certain item in an ndarray in Python?\n"
      ]
    },
    {
      "cell_type": "code",
      "metadata": {
        "id": "x4t0jEZC2PPr",
        "colab_type": "code",
        "colab": {
          "base_uri": "https://localhost:8080/",
          "height": 34
        },
        "outputId": "f961ac1c-2219-40b5-b535-499b04a151fb"
      },
      "source": [
        "import numpy\n",
        "\n",
        "a = numpy.array([0, 3, 0, 1, 0, 1, 2, 1, 0, 0, 0, 0, 1, 3, 4])\n",
        "unique, counts = numpy.unique(a, return_counts=True)\n",
        "dict(zip(unique, counts))"
      ],
      "execution_count": 2,
      "outputs": [
        {
          "output_type": "execute_result",
          "data": {
            "text/plain": [
              "{0: 7, 1: 4, 2: 1, 3: 2, 4: 1}"
            ]
          },
          "metadata": {
            "tags": []
          },
          "execution_count": 2
        }
      ]
    },
    {
      "cell_type": "code",
      "metadata": {
        "id": "kSDIdSPetI3e",
        "colab_type": "code",
        "colab": {}
      },
      "source": [
        ""
      ],
      "execution_count": 0,
      "outputs": []
    }
  ]
}