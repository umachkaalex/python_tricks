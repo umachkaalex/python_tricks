{
 "cells": [
  {
   "cell_type": "heading",
   "metadata": {},
   "level": 1,
   "source": [
    "Sub-Lists of N-Size from One Bigger List"
   ]
  },
  {
   "cell_type": "code",
   "execution_count": 1,
   "metadata": {
    "collapsed": true
   },
   "outputs": [
    {
     "name": "stdout",
     "output_type": "stream",
     "text": [
      "0.5770330429077148\n0.1000056266784668\n"
     ]
    }
   ],
   "source": [
    "import time\n",
    "# loop realization\n",
    "cur_time = time.time()\n",
    "k_2 = range(1000000)\n",
    "orders = []\n",
    "for l in range(len(k_2)//2):\n",
    "    orders.append([k_2[l*2], k_2[l*2+1]])\n",
    "print(time.time()-cur_time)\n",
    "# zip realization\n",
    "cur_time = time.time()\n",
    "k_2_num = len(k_2)%2\n",
    "orders = list(zip(*[iter(k_2)]*2))\n",
    "print(time.time()-cur_time)"
   ]
  },
  {
   "cell_type": "code",
   "execution_count": null,
   "metadata": {},
   "outputs": [],
   "source": []
  }
 ],
 "metadata": {
  "kernelspec": {
   "display_name": "Python 2",
   "language": "python",
   "name": "python2"
  },
  "language_info": {
   "codemirror_mode": {
    "name": "ipython",
    "version": 2
   },
   "file_extension": ".py",
   "mimetype": "text/x-python",
   "name": "python",
   "nbconvert_exporter": "python",
   "pygments_lexer": "ipython2",
   "version": "2.7.6"
  }
 },
 "nbformat": 4,
 "nbformat_minor": 0
}
